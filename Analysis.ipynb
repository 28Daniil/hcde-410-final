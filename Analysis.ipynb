{
 "cells": [
  {
   "cell_type": "markdown",
   "id": "4abb8b53-9536-4921-8135-f0740689a1ab",
   "metadata": {},
   "source": [
    "# Introduction\n",
    "\n",
    "This project is intended to research the college admission statistics and determine if there is a correlation between selectivity and graduate earnings. This may potentially be useful for parents and students as they will get a better understanding of what college to choose. In the bigger picture, it's important to close the earnings gap between students from rich and poor families and this knowledge may be helpful to students that don't have much but want to utilize their resources to the maximum. \n",
    "\n",
    "\n",
    "\n"
   ]
  },
  {
   "cell_type": "markdown",
   "id": "b27fb357-64f7-4c9f-861e-d05be8e7ea68",
   "metadata": {},
   "source": [
    "# Research Questions \n",
    "\n",
    "I want to learn if colleges with stricter admission metrics report higer student earnings after graduation. \n",
    "\n",
    "Hypothesis:\n",
    "1. Private-nonprofit colleges report higer student earnings after graduation. \n",
    "2. Colleges with lower admission rate report higer student earnings after graduation.\n",
    "3. Colleges with higher SAT average report higer student earnings after graduation."
   ]
  },
  {
   "cell_type": "markdown",
   "id": "d8ded1aa-51d2-412e-a30e-4fdba7c8b8db",
   "metadata": {},
   "source": [
    "# Background and Related Work\n",
    "\n",
    "1. This article explores the correlation between selectivity and the graduate earnings after 10 years. They concluded that graduades from selective colleges earn more, but school alone is not the only factor determening the income:\n",
    "https://www.insidehighered.com/news/2016/08/22/study-finds-graduates-most-selective-colleges-enjoy-earnings-payoff#:~:text=The%20results%20show%20that%2C%20after,and%2019%20percent%20more%20than\n",
    "\n",
    "2. Another article studied the gap between rich and poor students. They found a positive correlation between college selectivity and future earnings. They surveyed people 6 and 10 years after graduation, the  effect of college type on earnings was more pronounced 10 years after enrollment, where students who enrolled in selective colleges on average earned 20 percent more than students who attended nonselective colleges. They also studied the types of colleges and found that those who attended for-profits colleges earned 18 percent less than those who went to private not-for-profit institutions: https://www.insidehighered.com/news/2018/09/06/analysis-finds-benefits-attending-selective-college-and-penalties-attending-profit"
   ]
  },
  {
   "cell_type": "markdown",
   "id": "8d7614e5-4ceb-4084-9a90-b3c39d8085ce",
   "metadata": {},
   "source": [
    "# Methodology\n",
    "\n",
    "I will be using the Pearson coefficient and linear regression to test for linear correlation of the two variables (columns), for example, acceptance rate and earnings. Linear regression is the easiest method when we want to measure the correlation between two quantitative variables. To test for the validity of the analysis I will find p-values and make sure they are very small. To visualize data I will produce a heatmap with Pearson correlation coefficients and I will also plot data points to produce a scatterplot and include a line of best fit. For a scatterplot, for example, the explanatory (independent) variable would be the acceptance rate and be on the x-axis and the response (dependent) variable would be earnings and be on the y-axis."
   ]
  },
  {
   "cell_type": "markdown",
   "id": "7c014ca5-aab8-4ae9-aad5-a90b5992c519",
   "metadata": {},
   "source": [
    "# Data selected for analysis:\n",
    "The dataset that was taken from here: https://www.arcgis.com/home/item.html?id=912cf0e0028c4e26a23daf51443ef9fa, csv version included in the repo. The dataset includes information about ~ 6500 US colleges. The information includes name of the college, different metrics for location,  type, number of students, SAT scores, tuition costs, financial aid, avg graduate earnings , etc. "
   ]
  },
  {
   "cell_type": "markdown",
   "id": "4cda8a02-9f89-440f-b556-d7c151abad70",
   "metadata": {},
   "source": [
    "# Results"
   ]
  },
  {
   "cell_type": "markdown",
   "id": "81513df0-1f32-459b-9a01-111f3c3a2568",
   "metadata": {},
   "source": [
    "Below are all the libraries we will need for this analysis."
   ]
  },
  {
   "cell_type": "code",
   "execution_count": 26,
   "id": "d3110b0e-6eeb-438c-b331-bea6d2e63d72",
   "metadata": {},
   "outputs": [],
   "source": [
    "import pandas as pd\n",
    "import numpy as np\n",
    "import matplotlib.pyplot as plt\n",
    "from sklearn.linear_model import LinearRegression\n",
    "import seaborn\n",
    "import statsmodels.api as s"
   ]
  },
  {
   "cell_type": "markdown",
   "id": "2e2b3993-43c6-4af0-9adb-a70061d91829",
   "metadata": {},
   "source": [
    "# 1. Preparation of a Dataset\n",
    "\n",
    "Access the csv file and make a subset of a dataframe with the columns we want to include. "
   ]
  },
  {
   "cell_type": "code",
   "execution_count": 17,
   "id": "396e7354-2d5f-4401-a44e-edb8b0960742",
   "metadata": {
    "tags": []
   },
   "outputs": [
    {
     "data": {
      "text/html": [
       "<div>\n",
       "<style scoped>\n",
       "    .dataframe tbody tr th:only-of-type {\n",
       "        vertical-align: middle;\n",
       "    }\n",
       "\n",
       "    .dataframe tbody tr th {\n",
       "        vertical-align: top;\n",
       "    }\n",
       "\n",
       "    .dataframe thead th {\n",
       "        text-align: right;\n",
       "    }\n",
       "</style>\n",
       "<table border=\"1\" class=\"dataframe\">\n",
       "  <thead>\n",
       "    <tr style=\"text-align: right;\">\n",
       "      <th></th>\n",
       "      <th>NAME</th>\n",
       "      <th>STATE</th>\n",
       "      <th>TYPE</th>\n",
       "      <th>REGION</th>\n",
       "      <th>ADM_RATE</th>\n",
       "      <th>SAT_AVG</th>\n",
       "      <th>COST</th>\n",
       "      <th>EARNINGS</th>\n",
       "    </tr>\n",
       "  </thead>\n",
       "  <tbody>\n",
       "    <tr>\n",
       "      <th>0</th>\n",
       "      <td>UniversityofHawaiiatHilo</td>\n",
       "      <td>HI</td>\n",
       "      <td>Public</td>\n",
       "      <td>FarWest</td>\n",
       "      <td>0.6910</td>\n",
       "      <td>978.0</td>\n",
       "      <td>19087.0</td>\n",
       "      <td>38000.0</td>\n",
       "    </tr>\n",
       "    <tr>\n",
       "      <th>1</th>\n",
       "      <td>HawaiiCommunityCollege</td>\n",
       "      <td>HI</td>\n",
       "      <td>Public</td>\n",
       "      <td>FarWest</td>\n",
       "      <td>NaN</td>\n",
       "      <td>NaN</td>\n",
       "      <td>13594.0</td>\n",
       "      <td>28200.0</td>\n",
       "    </tr>\n",
       "    <tr>\n",
       "      <th>2</th>\n",
       "      <td>MaunaLoaHelicopters</td>\n",
       "      <td>HI</td>\n",
       "      <td>PrivateFor-Profit</td>\n",
       "      <td>FarWest</td>\n",
       "      <td>1.0000</td>\n",
       "      <td>NaN</td>\n",
       "      <td>NaN</td>\n",
       "      <td>NaN</td>\n",
       "    </tr>\n",
       "    <tr>\n",
       "      <th>3</th>\n",
       "      <td>UniversityofHawaiiMauiCollege</td>\n",
       "      <td>HI</td>\n",
       "      <td>Public</td>\n",
       "      <td>FarWest</td>\n",
       "      <td>NaN</td>\n",
       "      <td>NaN</td>\n",
       "      <td>13256.0</td>\n",
       "      <td>35600.0</td>\n",
       "    </tr>\n",
       "    <tr>\n",
       "      <th>4</th>\n",
       "      <td>KapiolaniCommunityCollege</td>\n",
       "      <td>HI</td>\n",
       "      <td>Public</td>\n",
       "      <td>FarWest</td>\n",
       "      <td>NaN</td>\n",
       "      <td>NaN</td>\n",
       "      <td>10458.0</td>\n",
       "      <td>40800.0</td>\n",
       "    </tr>\n",
       "    <tr>\n",
       "      <th>5</th>\n",
       "      <td>PaulMitchelltheSchool-Honolulu</td>\n",
       "      <td>HI</td>\n",
       "      <td>PrivateFor-Profit</td>\n",
       "      <td>FarWest</td>\n",
       "      <td>NaN</td>\n",
       "      <td>NaN</td>\n",
       "      <td>23083.0</td>\n",
       "      <td>NaN</td>\n",
       "    </tr>\n",
       "    <tr>\n",
       "      <th>6</th>\n",
       "      <td>ChaminadeUniversityofHonolulu</td>\n",
       "      <td>HI</td>\n",
       "      <td>PrivateNonprofit</td>\n",
       "      <td>FarWest</td>\n",
       "      <td>0.9133</td>\n",
       "      <td>976.0</td>\n",
       "      <td>33824.0</td>\n",
       "      <td>36800.0</td>\n",
       "    </tr>\n",
       "    <tr>\n",
       "      <th>7</th>\n",
       "      <td>HawaiiMedicalCollege</td>\n",
       "      <td>HI</td>\n",
       "      <td>PrivateFor-Profit</td>\n",
       "      <td>FarWest</td>\n",
       "      <td>NaN</td>\n",
       "      <td>NaN</td>\n",
       "      <td>21237.0</td>\n",
       "      <td>NaN</td>\n",
       "    </tr>\n",
       "    <tr>\n",
       "      <th>8</th>\n",
       "      <td>WorldMedicineInstitute</td>\n",
       "      <td>HI</td>\n",
       "      <td>PrivateNonprofit</td>\n",
       "      <td>FarWest</td>\n",
       "      <td>NaN</td>\n",
       "      <td>NaN</td>\n",
       "      <td>NaN</td>\n",
       "      <td>NaN</td>\n",
       "    </tr>\n",
       "    <tr>\n",
       "      <th>9</th>\n",
       "      <td>UniversityofHawaiiatManoa</td>\n",
       "      <td>HI</td>\n",
       "      <td>Public</td>\n",
       "      <td>FarWest</td>\n",
       "      <td>0.8498</td>\n",
       "      <td>1075.0</td>\n",
       "      <td>22153.0</td>\n",
       "      <td>45600.0</td>\n",
       "    </tr>\n",
       "  </tbody>\n",
       "</table>\n",
       "</div>"
      ],
      "text/plain": [
       "                             NAME STATE               TYPE   REGION  ADM_RATE  \\\n",
       "0        UniversityofHawaiiatHilo    HI             Public  FarWest    0.6910   \n",
       "1          HawaiiCommunityCollege    HI             Public  FarWest       NaN   \n",
       "2             MaunaLoaHelicopters    HI  PrivateFor-Profit  FarWest    1.0000   \n",
       "3   UniversityofHawaiiMauiCollege    HI             Public  FarWest       NaN   \n",
       "4       KapiolaniCommunityCollege    HI             Public  FarWest       NaN   \n",
       "5  PaulMitchelltheSchool-Honolulu    HI  PrivateFor-Profit  FarWest       NaN   \n",
       "6   ChaminadeUniversityofHonolulu    HI   PrivateNonprofit  FarWest    0.9133   \n",
       "7            HawaiiMedicalCollege    HI  PrivateFor-Profit  FarWest       NaN   \n",
       "8          WorldMedicineInstitute    HI   PrivateNonprofit  FarWest       NaN   \n",
       "9       UniversityofHawaiiatManoa    HI             Public  FarWest    0.8498   \n",
       "\n",
       "   SAT_AVG     COST  EARNINGS  \n",
       "0    978.0  19087.0   38000.0  \n",
       "1      NaN  13594.0   28200.0  \n",
       "2      NaN      NaN       NaN  \n",
       "3      NaN  13256.0   35600.0  \n",
       "4      NaN  10458.0   40800.0  \n",
       "5      NaN  23083.0       NaN  \n",
       "6    976.0  33824.0   36800.0  \n",
       "7      NaN  21237.0       NaN  \n",
       "8      NaN      NaN       NaN  \n",
       "9   1075.0  22153.0   45600.0  "
      ]
     },
     "execution_count": 17,
     "metadata": {},
     "output_type": "execute_result"
    }
   ],
   "source": [
    "excel_file_path = 'College_Scorecard_Data.csv'\n",
    "df = pd.read_csv(excel_file_path, na_filter=True)\n",
    "df=df[[ 'NAME', 'STATE', 'TYPE', 'REGION', \n",
    "      'ADM_RATE', 'SAT_AVG', 'COST', 'EARNINGS']]\n",
    "df[:10]"
   ]
  },
  {
   "cell_type": "markdown",
   "id": "953c0a4d-89d6-4268-b8b1-9bb7c600bc2e",
   "metadata": {},
   "source": [
    "Add a new column for Return of Investment (ROI) by dividing earnings after graduation by the cost of attendance."
   ]
  },
  {
   "cell_type": "code",
   "execution_count": 27,
   "id": "0916b53f-ae06-4bee-b208-928b52aa740f",
   "metadata": {
    "tags": []
   },
   "outputs": [],
   "source": [
    "df['ROI'] = np.where(df['EARNINGS'] < 1, df['COST'], df['EARNINGS']/df['COST'])"
   ]
  },
  {
   "cell_type": "markdown",
   "id": "262e4a03-0503-4b7c-a588-9b0bad34568e",
   "metadata": {},
   "source": [
    "# 2. Analysis of the Dataset\n",
    "\n",
    "1. Begin with descriptive statistics."
   ]
  },
  {
   "cell_type": "code",
   "execution_count": 28,
   "id": "b5465051-bd1d-4f30-9820-79a79cb7d643",
   "metadata": {},
   "outputs": [
    {
     "data": {
      "text/html": [
       "<div>\n",
       "<style scoped>\n",
       "    .dataframe tbody tr th:only-of-type {\n",
       "        vertical-align: middle;\n",
       "    }\n",
       "\n",
       "    .dataframe tbody tr th {\n",
       "        vertical-align: top;\n",
       "    }\n",
       "\n",
       "    .dataframe thead th {\n",
       "        text-align: right;\n",
       "    }\n",
       "</style>\n",
       "<table border=\"1\" class=\"dataframe\">\n",
       "  <thead>\n",
       "    <tr style=\"text-align: right;\">\n",
       "      <th></th>\n",
       "      <th>NAME</th>\n",
       "      <th>STATE</th>\n",
       "      <th>TYPE</th>\n",
       "      <th>REGION</th>\n",
       "      <th>ADM_RATE</th>\n",
       "      <th>SAT_AVG</th>\n",
       "      <th>COST</th>\n",
       "      <th>EARNINGS</th>\n",
       "      <th>ROI</th>\n",
       "    </tr>\n",
       "  </thead>\n",
       "  <tbody>\n",
       "    <tr>\n",
       "      <th>count</th>\n",
       "      <td>6583</td>\n",
       "      <td>6583</td>\n",
       "      <td>6583</td>\n",
       "      <td>6583</td>\n",
       "      <td>1975.000000</td>\n",
       "      <td>1298.000000</td>\n",
       "      <td>5826.000000</td>\n",
       "      <td>4984.000000</td>\n",
       "      <td>4652.000000</td>\n",
       "    </tr>\n",
       "    <tr>\n",
       "      <th>unique</th>\n",
       "      <td>6460</td>\n",
       "      <td>51</td>\n",
       "      <td>3</td>\n",
       "      <td>8</td>\n",
       "      <td>NaN</td>\n",
       "      <td>NaN</td>\n",
       "      <td>NaN</td>\n",
       "      <td>NaN</td>\n",
       "      <td>NaN</td>\n",
       "    </tr>\n",
       "    <tr>\n",
       "      <th>top</th>\n",
       "      <td>McCannSchoolofBusiness&amp;Technology</td>\n",
       "      <td>CA</td>\n",
       "      <td>PrivateFor-Profit</td>\n",
       "      <td>Southeast</td>\n",
       "      <td>NaN</td>\n",
       "      <td>NaN</td>\n",
       "      <td>NaN</td>\n",
       "      <td>NaN</td>\n",
       "      <td>NaN</td>\n",
       "    </tr>\n",
       "    <tr>\n",
       "      <th>freq</th>\n",
       "      <td>9</td>\n",
       "      <td>660</td>\n",
       "      <td>2806</td>\n",
       "      <td>1658</td>\n",
       "      <td>NaN</td>\n",
       "      <td>NaN</td>\n",
       "      <td>NaN</td>\n",
       "      <td>NaN</td>\n",
       "      <td>NaN</td>\n",
       "    </tr>\n",
       "    <tr>\n",
       "      <th>mean</th>\n",
       "      <td>NaN</td>\n",
       "      <td>NaN</td>\n",
       "      <td>NaN</td>\n",
       "      <td>NaN</td>\n",
       "      <td>0.669671</td>\n",
       "      <td>1060.436055</td>\n",
       "      <td>23596.358050</td>\n",
       "      <td>36092.335474</td>\n",
       "      <td>1.695216</td>\n",
       "    </tr>\n",
       "    <tr>\n",
       "      <th>std</th>\n",
       "      <td>NaN</td>\n",
       "      <td>NaN</td>\n",
       "      <td>NaN</td>\n",
       "      <td>NaN</td>\n",
       "      <td>0.208911</td>\n",
       "      <td>136.789883</td>\n",
       "      <td>12295.056365</td>\n",
       "      <td>15038.544679</td>\n",
       "      <td>0.832268</td>\n",
       "    </tr>\n",
       "    <tr>\n",
       "      <th>min</th>\n",
       "      <td>NaN</td>\n",
       "      <td>NaN</td>\n",
       "      <td>NaN</td>\n",
       "      <td>NaN</td>\n",
       "      <td>0.000000</td>\n",
       "      <td>712.000000</td>\n",
       "      <td>2473.000000</td>\n",
       "      <td>13500.000000</td>\n",
       "      <td>0.371975</td>\n",
       "    </tr>\n",
       "    <tr>\n",
       "      <th>25%</th>\n",
       "      <td>NaN</td>\n",
       "      <td>NaN</td>\n",
       "      <td>NaN</td>\n",
       "      <td>NaN</td>\n",
       "      <td>0.542000</td>\n",
       "      <td>970.000000</td>\n",
       "      <td>14936.500000</td>\n",
       "      <td>26400.000000</td>\n",
       "      <td>1.057519</td>\n",
       "    </tr>\n",
       "    <tr>\n",
       "      <th>50%</th>\n",
       "      <td>NaN</td>\n",
       "      <td>NaN</td>\n",
       "      <td>NaN</td>\n",
       "      <td>NaN</td>\n",
       "      <td>0.691300</td>\n",
       "      <td>1040.000000</td>\n",
       "      <td>20746.500000</td>\n",
       "      <td>33500.000000</td>\n",
       "      <td>1.430394</td>\n",
       "    </tr>\n",
       "    <tr>\n",
       "      <th>75%</th>\n",
       "      <td>NaN</td>\n",
       "      <td>NaN</td>\n",
       "      <td>NaN</td>\n",
       "      <td>NaN</td>\n",
       "      <td>0.824500</td>\n",
       "      <td>1120.000000</td>\n",
       "      <td>27711.500000</td>\n",
       "      <td>42100.000000</td>\n",
       "      <td>2.207791</td>\n",
       "    </tr>\n",
       "    <tr>\n",
       "      <th>max</th>\n",
       "      <td>NaN</td>\n",
       "      <td>NaN</td>\n",
       "      <td>NaN</td>\n",
       "      <td>NaN</td>\n",
       "      <td>1.000000</td>\n",
       "      <td>1555.000000</td>\n",
       "      <td>100825.000000</td>\n",
       "      <td>250000.000000</td>\n",
       "      <td>11.686211</td>\n",
       "    </tr>\n",
       "  </tbody>\n",
       "</table>\n",
       "</div>"
      ],
      "text/plain": [
       "                                     NAME STATE               TYPE     REGION  \\\n",
       "count                                6583  6583               6583       6583   \n",
       "unique                               6460    51                  3          8   \n",
       "top     McCannSchoolofBusiness&Technology    CA  PrivateFor-Profit  Southeast   \n",
       "freq                                    9   660               2806       1658   \n",
       "mean                                  NaN   NaN                NaN        NaN   \n",
       "std                                   NaN   NaN                NaN        NaN   \n",
       "min                                   NaN   NaN                NaN        NaN   \n",
       "25%                                   NaN   NaN                NaN        NaN   \n",
       "50%                                   NaN   NaN                NaN        NaN   \n",
       "75%                                   NaN   NaN                NaN        NaN   \n",
       "max                                   NaN   NaN                NaN        NaN   \n",
       "\n",
       "           ADM_RATE      SAT_AVG           COST       EARNINGS          ROI  \n",
       "count   1975.000000  1298.000000    5826.000000    4984.000000  4652.000000  \n",
       "unique          NaN          NaN            NaN            NaN          NaN  \n",
       "top             NaN          NaN            NaN            NaN          NaN  \n",
       "freq            NaN          NaN            NaN            NaN          NaN  \n",
       "mean       0.669671  1060.436055   23596.358050   36092.335474     1.695216  \n",
       "std        0.208911   136.789883   12295.056365   15038.544679     0.832268  \n",
       "min        0.000000   712.000000    2473.000000   13500.000000     0.371975  \n",
       "25%        0.542000   970.000000   14936.500000   26400.000000     1.057519  \n",
       "50%        0.691300  1040.000000   20746.500000   33500.000000     1.430394  \n",
       "75%        0.824500  1120.000000   27711.500000   42100.000000     2.207791  \n",
       "max        1.000000  1555.000000  100825.000000  250000.000000    11.686211  "
      ]
     },
     "execution_count": 28,
     "metadata": {},
     "output_type": "execute_result"
    }
   ],
   "source": [
    "df.describe(include='all')"
   ]
  },
  {
   "cell_type": "markdown",
   "id": "37ad6e65-12d4-418a-a681-018c8f594b23",
   "metadata": {},
   "source": [
    "2. Find top 10 colleges in Washington State by earnings after graduation. "
   ]
  },
  {
   "cell_type": "code",
   "execution_count": 20,
   "id": "15dddf1d-ce27-495b-923f-ae7ff3a0753e",
   "metadata": {},
   "outputs": [
    {
     "data": {
      "text/html": [
       "<div>\n",
       "<style scoped>\n",
       "    .dataframe tbody tr th:only-of-type {\n",
       "        vertical-align: middle;\n",
       "    }\n",
       "\n",
       "    .dataframe tbody tr th {\n",
       "        vertical-align: top;\n",
       "    }\n",
       "\n",
       "    .dataframe thead th {\n",
       "        text-align: right;\n",
       "    }\n",
       "</style>\n",
       "<table border=\"1\" class=\"dataframe\">\n",
       "  <thead>\n",
       "    <tr style=\"text-align: right;\">\n",
       "      <th></th>\n",
       "      <th>NAME</th>\n",
       "      <th>EARNINGS</th>\n",
       "    </tr>\n",
       "  </thead>\n",
       "  <tbody>\n",
       "    <tr>\n",
       "      <th>6527</th>\n",
       "      <td>DigiPenInstituteofTechnology</td>\n",
       "      <td>72800.0</td>\n",
       "    </tr>\n",
       "    <tr>\n",
       "      <th>6460</th>\n",
       "      <td>UniversityofWashington-TacomaCampus</td>\n",
       "      <td>61000.0</td>\n",
       "    </tr>\n",
       "    <tr>\n",
       "      <th>6514</th>\n",
       "      <td>UniversityofWashington-SeattleCampus</td>\n",
       "      <td>61000.0</td>\n",
       "    </tr>\n",
       "    <tr>\n",
       "      <th>6537</th>\n",
       "      <td>UniversityofWashington-BothellCampus</td>\n",
       "      <td>61000.0</td>\n",
       "    </tr>\n",
       "    <tr>\n",
       "      <th>6497</th>\n",
       "      <td>SeattleUniversity</td>\n",
       "      <td>56100.0</td>\n",
       "    </tr>\n",
       "    <tr>\n",
       "      <th>6520</th>\n",
       "      <td>GonzagaUniversity</td>\n",
       "      <td>54800.0</td>\n",
       "    </tr>\n",
       "    <tr>\n",
       "      <th>6403</th>\n",
       "      <td>PerryTechnicalInstitute</td>\n",
       "      <td>54500.0</td>\n",
       "    </tr>\n",
       "    <tr>\n",
       "      <th>6511</th>\n",
       "      <td>DiversInstituteofTechnology</td>\n",
       "      <td>51300.0</td>\n",
       "    </tr>\n",
       "    <tr>\n",
       "      <th>6418</th>\n",
       "      <td>WashingtonStateUniversity</td>\n",
       "      <td>51000.0</td>\n",
       "    </tr>\n",
       "    <tr>\n",
       "      <th>6464</th>\n",
       "      <td>UniversityofPugetSound</td>\n",
       "      <td>50600.0</td>\n",
       "    </tr>\n",
       "  </tbody>\n",
       "</table>\n",
       "</div>"
      ],
      "text/plain": [
       "                                      NAME  EARNINGS\n",
       "6527          DigiPenInstituteofTechnology   72800.0\n",
       "6460   UniversityofWashington-TacomaCampus   61000.0\n",
       "6514  UniversityofWashington-SeattleCampus   61000.0\n",
       "6537  UniversityofWashington-BothellCampus   61000.0\n",
       "6497                     SeattleUniversity   56100.0\n",
       "6520                     GonzagaUniversity   54800.0\n",
       "6403               PerryTechnicalInstitute   54500.0\n",
       "6511           DiversInstituteofTechnology   51300.0\n",
       "6418             WashingtonStateUniversity   51000.0\n",
       "6464                UniversityofPugetSound   50600.0"
      ]
     },
     "execution_count": 20,
     "metadata": {},
     "output_type": "execute_result"
    }
   ],
   "source": [
    "df[df['STATE'] == \"WA\"].nlargest(10, 'EARNINGS')[['NAME', 'EARNINGS']]"
   ]
  },
  {
   "cell_type": "markdown",
   "id": "191f46e9-73a8-4b1f-8e5a-04f07ba45567",
   "metadata": {},
   "source": [
    "3. Next find top 10 colleges in WA by the Return of Investment"
   ]
  },
  {
   "cell_type": "code",
   "execution_count": 21,
   "id": "f0c7f507-0f09-4d8a-b463-f3d2bfeb7dbc",
   "metadata": {},
   "outputs": [
    {
     "data": {
      "text/html": [
       "<div>\n",
       "<style scoped>\n",
       "    .dataframe tbody tr th:only-of-type {\n",
       "        vertical-align: middle;\n",
       "    }\n",
       "\n",
       "    .dataframe tbody tr th {\n",
       "        vertical-align: top;\n",
       "    }\n",
       "\n",
       "    .dataframe thead th {\n",
       "        text-align: right;\n",
       "    }\n",
       "</style>\n",
       "<table border=\"1\" class=\"dataframe\">\n",
       "  <thead>\n",
       "    <tr style=\"text-align: right;\">\n",
       "      <th></th>\n",
       "      <th>NAME</th>\n",
       "      <th>EARNINGS</th>\n",
       "      <th>ROI</th>\n",
       "    </tr>\n",
       "  </thead>\n",
       "  <tbody>\n",
       "    <tr>\n",
       "      <th>6495</th>\n",
       "      <td>SeattleVocationalInstitute</td>\n",
       "      <td>33500.0</td>\n",
       "      <td>3.595192</td>\n",
       "    </tr>\n",
       "    <tr>\n",
       "      <th>6569</th>\n",
       "      <td>BellinghamTechnicalCollege</td>\n",
       "      <td>43000.0</td>\n",
       "      <td>3.467462</td>\n",
       "    </tr>\n",
       "    <tr>\n",
       "      <th>6530</th>\n",
       "      <td>LakeWashingtonInstituteofTechnology</td>\n",
       "      <td>44300.0</td>\n",
       "      <td>3.386074</td>\n",
       "    </tr>\n",
       "    <tr>\n",
       "      <th>6493</th>\n",
       "      <td>BellevueCollege</td>\n",
       "      <td>45000.0</td>\n",
       "      <td>3.369777</td>\n",
       "    </tr>\n",
       "    <tr>\n",
       "      <th>6463</th>\n",
       "      <td>BatesTechnicalCollege</td>\n",
       "      <td>37700.0</td>\n",
       "      <td>3.357378</td>\n",
       "    </tr>\n",
       "    <tr>\n",
       "      <th>6534</th>\n",
       "      <td>ShorelineCommunityCollege</td>\n",
       "      <td>42700.0</td>\n",
       "      <td>3.257801</td>\n",
       "    </tr>\n",
       "    <tr>\n",
       "      <th>6522</th>\n",
       "      <td>SpokaneCommunityCollege</td>\n",
       "      <td>34400.0</td>\n",
       "      <td>3.248654</td>\n",
       "    </tr>\n",
       "    <tr>\n",
       "      <th>6461</th>\n",
       "      <td>TacomaCommunityCollege</td>\n",
       "      <td>36900.0</td>\n",
       "      <td>3.068862</td>\n",
       "    </tr>\n",
       "    <tr>\n",
       "      <th>6453</th>\n",
       "      <td>PierceCollege-FortSteilacoom</td>\n",
       "      <td>36900.0</td>\n",
       "      <td>3.028314</td>\n",
       "    </tr>\n",
       "    <tr>\n",
       "      <th>6528</th>\n",
       "      <td>NorthSeattleCollege</td>\n",
       "      <td>38000.0</td>\n",
       "      <td>2.951456</td>\n",
       "    </tr>\n",
       "  </tbody>\n",
       "</table>\n",
       "</div>"
      ],
      "text/plain": [
       "                                     NAME  EARNINGS       ROI\n",
       "6495           SeattleVocationalInstitute   33500.0  3.595192\n",
       "6569           BellinghamTechnicalCollege   43000.0  3.467462\n",
       "6530  LakeWashingtonInstituteofTechnology   44300.0  3.386074\n",
       "6493                      BellevueCollege   45000.0  3.369777\n",
       "6463                BatesTechnicalCollege   37700.0  3.357378\n",
       "6534            ShorelineCommunityCollege   42700.0  3.257801\n",
       "6522              SpokaneCommunityCollege   34400.0  3.248654\n",
       "6461               TacomaCommunityCollege   36900.0  3.068862\n",
       "6453         PierceCollege-FortSteilacoom   36900.0  3.028314\n",
       "6528                  NorthSeattleCollege   38000.0  2.951456"
      ]
     },
     "execution_count": 21,
     "metadata": {},
     "output_type": "execute_result"
    }
   ],
   "source": [
    "df[df['STATE'] == \"WA\"].nlargest(10, 'ROI')[['NAME', 'EARNINGS','ROI']]"
   ]
  },
  {
   "cell_type": "markdown",
   "id": "e1125b2d-e94b-4326-86c5-487c6fa9a86a",
   "metadata": {},
   "source": [
    "This information may be usefull to families that can't afford expensive colleges but want to maximize return on investment. "
   ]
  },
  {
   "cell_type": "markdown",
   "id": "1f500eeb-b345-4654-b883-4838c5708c9c",
   "metadata": {},
   "source": [
    "# 3. Analysis - Type of College vs Earnings\n",
    "\n",
    "1. Find median earnings for every type of college."
   ]
  },
  {
   "cell_type": "code",
   "execution_count": 22,
   "id": "85290430-e1d9-40e7-8a8f-5e8c6505c56f",
   "metadata": {},
   "outputs": [
    {
     "data": {
      "text/plain": [
       "TYPE\n",
       "PrivateFor-Profit    25700.0\n",
       "PrivateNonprofit     42500.0\n",
       "Public               34300.0\n",
       "Name: EARNINGS, dtype: float64"
      ]
     },
     "execution_count": 22,
     "metadata": {},
     "output_type": "execute_result"
    }
   ],
   "source": [
    "median = df['EARNINGS'].groupby(df['TYPE']).agg(np.median)\n",
    "median"
   ]
  },
  {
   "cell_type": "markdown",
   "id": "d8e9467b-4003-4729-96ab-3be10bc0208a",
   "metadata": {},
   "source": [
    "2. Visualize it using bar graph."
   ]
  },
  {
   "cell_type": "code",
   "execution_count": 23,
   "id": "cfc50c0a-ae39-4863-8b74-780385ff9538",
   "metadata": {},
   "outputs": [
    {
     "data": {
      "text/plain": [
       "Text(0, 0.5, '')"
      ]
     },
     "execution_count": 23,
     "metadata": {},
     "output_type": "execute_result"
    },
    {
     "data": {
      "image/png": "[encoded data removed]",
      "text/plain": [
       "<Figure size 432x288 with 1 Axes>"
      ]
     },
     "metadata": {
      "needs_background": "light"
     },
     "output_type": "display_data"
    }
   ],
   "source": [
    "median.plot(kind='barh')\n",
    "plt.xlabel('Earnings',fontsize=18)\n",
    "plt.title('Type of College vs Earnings',fontsize=15)\n",
    "plt.ylabel('')"
   ]
  },
  {
   "cell_type": "markdown",
   "id": "b24bb622-69de-43d0-a61e-543283dca7e7",
   "metadata": {},
   "source": [
    "We can see that Private Nonprofit colleges earn the most on average."
   ]
  },
  {
   "cell_type": "markdown",
   "id": "332d1c72-a0e5-435a-b7ad-83fcfbb77334",
   "metadata": {},
   "source": [
    "# 4. Analysis - Linear Correlations \n",
    "\n",
    "1. Find Pearson correlation between the variables. "
   ]
  },
  {
   "cell_type": "code",
   "execution_count": 24,
   "id": "64780214-a0ed-47e3-b711-2c265bf42c88",
   "metadata": {
    "tags": []
   },
   "outputs": [
    {
     "data": {
      "text/html": [
       "<div>\n",
       "<style scoped>\n",
       "    .dataframe tbody tr th:only-of-type {\n",
       "        vertical-align: middle;\n",
       "    }\n",
       "\n",
       "    .dataframe tbody tr th {\n",
       "        vertical-align: top;\n",
       "    }\n",
       "\n",
       "    .dataframe thead th {\n",
       "        text-align: right;\n",
       "    }\n",
       "</style>\n",
       "<table border=\"1\" class=\"dataframe\">\n",
       "  <thead>\n",
       "    <tr style=\"text-align: right;\">\n",
       "      <th></th>\n",
       "      <th>ADM_RATE</th>\n",
       "      <th>SAT_AVG</th>\n",
       "      <th>COST</th>\n",
       "      <th>EARNINGS</th>\n",
       "      <th>ROI</th>\n",
       "    </tr>\n",
       "  </thead>\n",
       "  <tbody>\n",
       "    <tr>\n",
       "      <th>ADM_RATE</th>\n",
       "      <td>1.000000</td>\n",
       "      <td>-0.405860</td>\n",
       "      <td>-0.262426</td>\n",
       "      <td>-0.284555</td>\n",
       "      <td>0.038023</td>\n",
       "    </tr>\n",
       "    <tr>\n",
       "      <th>SAT_AVG</th>\n",
       "      <td>-0.405860</td>\n",
       "      <td>1.000000</td>\n",
       "      <td>0.532791</td>\n",
       "      <td>0.696211</td>\n",
       "      <td>-0.050177</td>\n",
       "    </tr>\n",
       "    <tr>\n",
       "      <th>COST</th>\n",
       "      <td>-0.262426</td>\n",
       "      <td>0.532791</td>\n",
       "      <td>1.000000</td>\n",
       "      <td>0.546380</td>\n",
       "      <td>-0.624169</td>\n",
       "    </tr>\n",
       "    <tr>\n",
       "      <th>EARNINGS</th>\n",
       "      <td>-0.284555</td>\n",
       "      <td>0.696211</td>\n",
       "      <td>0.546380</td>\n",
       "      <td>1.000000</td>\n",
       "      <td>0.150002</td>\n",
       "    </tr>\n",
       "    <tr>\n",
       "      <th>ROI</th>\n",
       "      <td>0.038023</td>\n",
       "      <td>-0.050177</td>\n",
       "      <td>-0.624169</td>\n",
       "      <td>0.150002</td>\n",
       "      <td>1.000000</td>\n",
       "    </tr>\n",
       "  </tbody>\n",
       "</table>\n",
       "</div>"
      ],
      "text/plain": [
       "          ADM_RATE   SAT_AVG      COST  EARNINGS       ROI\n",
       "ADM_RATE  1.000000 -0.405860 -0.262426 -0.284555  0.038023\n",
       "SAT_AVG  -0.405860  1.000000  0.532791  0.696211 -0.050177\n",
       "COST     -0.262426  0.532791  1.000000  0.546380 -0.624169\n",
       "EARNINGS -0.284555  0.696211  0.546380  1.000000  0.150002\n",
       "ROI       0.038023 -0.050177 -0.624169  0.150002  1.000000"
      ]
     },
     "execution_count": 24,
     "metadata": {},
     "output_type": "execute_result"
    }
   ],
   "source": [
    "pearsoncorr = df.corr(method='pearson', min_periods=0)\n",
    "pearsoncorr"
   ]
  },
  {
   "cell_type": "markdown",
   "id": "ab3c6a8f-61ff-4b78-8f6c-b38267917429",
   "metadata": {},
   "source": [
    "2. visualize it using heatmap."
   ]
  },
  {
   "cell_type": "code",
   "execution_count": 25,
   "id": "738469dd-899c-4b7d-a76a-add31fff9f29",
   "metadata": {},
   "outputs": [
    {
     "data": {
      "text/plain": [
       "<AxesSubplot:>"
      ]
     },
     "execution_count": 25,
     "metadata": {},
     "output_type": "execute_result"
    },
    {
     "data": {
      "image/png": "[encoded data removed]",
      "text/plain": [
       "<Figure size 576x576 with 2 Axes>"
      ]
     },
     "metadata": {
      "needs_background": "light"
     },
     "output_type": "display_data"
    }
   ],
   "source": [
    "plt.figure(figsize=(8,8))\n",
    "seaborn.heatmap(df.corr(), annot=True, cmap=\"coolwarm\")"
   ]
  },
  {
   "cell_type": "markdown",
   "id": "c4b742ad-c699-446a-8664-ecb2debbb4da",
   "metadata": {},
   "source": [
    "We see that SAT average has the biggest linear correlation with earnings, correlation between cost and earnings is also big, corelation between admission rate and earnings is moderate negative."
   ]
  },
  {
   "cell_type": "markdown",
   "id": "649fbee8-b97d-422e-b718-165a13f166d5",
   "metadata": {},
   "source": [
    "# Correlation - Admission Rate vs Earnings \n",
    "\n",
    "1. Create a subset with two variables of interest and drop na values, this will allow us to perform regression analysis later, since we need paired data. "
   ]
  },
  {
   "cell_type": "code",
   "execution_count": 112,
   "id": "1cf4c7fd-587f-40c6-82cf-9d821ae29002",
   "metadata": {},
   "outputs": [
    {
     "data": {
      "text/html": [
       "<div>\n",
       "<style scoped>\n",
       "    .dataframe tbody tr th:only-of-type {\n",
       "        vertical-align: middle;\n",
       "    }\n",
       "\n",
       "    .dataframe tbody tr th {\n",
       "        vertical-align: top;\n",
       "    }\n",
       "\n",
       "    .dataframe thead th {\n",
       "        text-align: right;\n",
       "    }\n",
       "</style>\n",
       "<table border=\"1\" class=\"dataframe\">\n",
       "  <thead>\n",
       "    <tr style=\"text-align: right;\">\n",
       "      <th></th>\n",
       "      <th>ADM_RATE</th>\n",
       "      <th>EARNINGS</th>\n",
       "    </tr>\n",
       "  </thead>\n",
       "  <tbody>\n",
       "    <tr>\n",
       "      <th>0</th>\n",
       "      <td>0.6910</td>\n",
       "      <td>38000.0</td>\n",
       "    </tr>\n",
       "    <tr>\n",
       "      <th>6</th>\n",
       "      <td>0.9133</td>\n",
       "      <td>36800.0</td>\n",
       "    </tr>\n",
       "    <tr>\n",
       "      <th>9</th>\n",
       "      <td>0.8498</td>\n",
       "      <td>45600.0</td>\n",
       "    </tr>\n",
       "    <tr>\n",
       "      <th>15</th>\n",
       "      <td>0.7537</td>\n",
       "      <td>51000.0</td>\n",
       "    </tr>\n",
       "    <tr>\n",
       "      <th>19</th>\n",
       "      <td>0.5556</td>\n",
       "      <td>27800.0</td>\n",
       "    </tr>\n",
       "    <tr>\n",
       "      <th>20</th>\n",
       "      <td>0.6806</td>\n",
       "      <td>38000.0</td>\n",
       "    </tr>\n",
       "    <tr>\n",
       "      <th>23</th>\n",
       "      <td>0.2708</td>\n",
       "      <td>43200.0</td>\n",
       "    </tr>\n",
       "    <tr>\n",
       "      <th>36</th>\n",
       "      <td>0.3771</td>\n",
       "      <td>64900.0</td>\n",
       "    </tr>\n",
       "    <tr>\n",
       "      <th>42</th>\n",
       "      <td>0.5007</td>\n",
       "      <td>46000.0</td>\n",
       "    </tr>\n",
       "    <tr>\n",
       "      <th>67</th>\n",
       "      <td>0.3953</td>\n",
       "      <td>33600.0</td>\n",
       "    </tr>\n",
       "  </tbody>\n",
       "</table>\n",
       "</div>"
      ],
      "text/plain": [
       "    ADM_RATE  EARNINGS\n",
       "0     0.6910   38000.0\n",
       "6     0.9133   36800.0\n",
       "9     0.8498   45600.0\n",
       "15    0.7537   51000.0\n",
       "19    0.5556   27800.0\n",
       "20    0.6806   38000.0\n",
       "23    0.2708   43200.0\n",
       "36    0.3771   64900.0\n",
       "42    0.5007   46000.0\n",
       "67    0.3953   33600.0"
      ]
     },
     "execution_count": 112,
     "metadata": {},
     "output_type": "execute_result"
    }
   ],
   "source": [
    "df1=df[['ADM_RATE', 'EARNINGS']].dropna()\n",
    "df1[:10]"
   ]
  },
  {
   "cell_type": "markdown",
   "id": "9aa7128a-ee36-41d2-a3dc-0b27becd1382",
   "metadata": {},
   "source": [
    "2. Check that we have enough rows for the analysis"
   ]
  },
  {
   "cell_type": "code",
   "execution_count": 113,
   "id": "d4207b5f-67cc-4e30-8847-5c504179d358",
   "metadata": {
    "tags": []
   },
   "outputs": [
    {
     "data": {
      "text/plain": [
       "1780"
      ]
     },
     "execution_count": 113,
     "metadata": {},
     "output_type": "execute_result"
    }
   ],
   "source": [
    "len(df1)"
   ]
  },
  {
   "cell_type": "markdown",
   "id": "b7cc460f-e445-420c-becb-ec465b626283",
   "metadata": {
    "tags": []
   },
   "source": [
    "3. Find the p-value and make sure its value is small. Find the r coeeficient. \n"
   ]
  },
  {
   "cell_type": "code",
   "execution_count": 80,
   "id": "6b72e771-890c-4783-ac33-44efd998368d",
   "metadata": {},
   "outputs": [
    {
     "data": {
      "text/plain": [
       "(-0.28455478941001555, 1.6577295796645304e-34)"
      ]
     },
     "execution_count": 80,
     "metadata": {},
     "output_type": "execute_result"
    }
   ],
   "source": [
    "from scipy.stats import pearsonr\n",
    "pearsonr(df1['ADM_RATE'], df1['EARNINGS'])"
   ]
  },
  {
   "cell_type": "markdown",
   "id": "023720b8-7ddc-4fc6-a974-9d1ca9d1104a",
   "metadata": {},
   "source": [
    "The p-value is small and the Pearson correlation is -0.284. It's a weak-moderate negative linear correlation."
   ]
  },
  {
   "cell_type": "markdown",
   "id": "a32876eb-5316-47af-8ec6-661649221382",
   "metadata": {},
   "source": [
    "4. Create a regression model, this will be used in the next step for visualization"
   ]
  },
  {
   "cell_type": "code",
   "execution_count": 81,
   "id": "6488bdde-b119-4601-b846-e5b535624cf3",
   "metadata": {},
   "outputs": [],
   "source": [
    "from scipy.stats import linregress\n",
    "X=df1[['ADM_RATE']]\n",
    "y=df1[['EARNINGS']]\n",
    "regressor = LinearRegression()\n",
    "regressor.fit(X, y)\n",
    "y_pred = regressor.predict(X)"
   ]
  },
  {
   "cell_type": "markdown",
   "id": "d045d992-e745-41bb-90d3-d3fc3262fdee",
   "metadata": {},
   "source": [
    "5. Create a scatterplot and the line of best fit to visualize the correlation between admission rate and earnings.  "
   ]
  },
  {
   "cell_type": "code",
   "execution_count": 114,
   "id": "44ea0530-f37f-42dd-9480-1de4c070052a",
   "metadata": {},
   "outputs": [
    {
     "data": {
      "text/plain": [
       "<function matplotlib.pyplot.show(close=None, block=None)>"
      ]
     },
     "execution_count": 114,
     "metadata": {},
     "output_type": "execute_result"
    },
    {
     "data": {
      "image/png": "[encoded data removed]",
      "text/plain": [
       "<Figure size 432x288 with 1 Axes>"
      ]
     },
     "metadata": {
      "needs_background": "light"
     },
     "output_type": "display_data"
    }
   ],
   "source": [
    "plt.scatter(X,y,s=5)\n",
    "plt.plot(X,y_pred, color='red')\n",
    "plt.title('Admission Rate vs Earnings')\n",
    "plt.xlabel('Admission Rate')\n",
    "plt.ylabel('Earnings')\n",
    "plt.show"
   ]
  },
  {
   "cell_type": "markdown",
   "id": "5bc7ce6e-137d-49d9-934c-779c0ee19593",
   "metadata": {},
   "source": [
    " From the plot it's hard to conclude if this graph is linear. The correlation is may actually be monotonic but exponential. As the admission rate falls below 0.2, we see that the earnings begin a steep ascend. We need further analysis.  More testing is needed to validate the relationship."
   ]
  },
  {
   "cell_type": "markdown",
   "id": "9de479c8-c08d-4107-b1b4-cb7476c07efe",
   "metadata": {},
   "source": [
    "# 5. Correlation - SAT vs Earnings\n",
    "\n",
    "Here we perform the same analysis as for the Admission rate vs Earnings. (I'm not sure how to reduce the redundancy) \n",
    "\n",
    "1. Create a subset with two variables of interest and drop na values, this will allow us to perform regression analysis later."
   ]
  },
  {
   "cell_type": "code",
   "execution_count": 90,
   "id": "35cb2940-847e-4b75-94a7-be8fd358bd78",
   "metadata": {},
   "outputs": [
    {
     "data": {
      "text/html": [
       "<div>\n",
       "<style scoped>\n",
       "    .dataframe tbody tr th:only-of-type {\n",
       "        vertical-align: middle;\n",
       "    }\n",
       "\n",
       "    .dataframe tbody tr th {\n",
       "        vertical-align: top;\n",
       "    }\n",
       "\n",
       "    .dataframe thead th {\n",
       "        text-align: right;\n",
       "    }\n",
       "</style>\n",
       "<table border=\"1\" class=\"dataframe\">\n",
       "  <thead>\n",
       "    <tr style=\"text-align: right;\">\n",
       "      <th></th>\n",
       "      <th>SAT_AVG</th>\n",
       "      <th>EARNINGS</th>\n",
       "    </tr>\n",
       "  </thead>\n",
       "  <tbody>\n",
       "    <tr>\n",
       "      <th>0</th>\n",
       "      <td>978.0</td>\n",
       "      <td>38000.0</td>\n",
       "    </tr>\n",
       "    <tr>\n",
       "      <th>6</th>\n",
       "      <td>976.0</td>\n",
       "      <td>36800.0</td>\n",
       "    </tr>\n",
       "    <tr>\n",
       "      <th>9</th>\n",
       "      <td>1075.0</td>\n",
       "      <td>45600.0</td>\n",
       "    </tr>\n",
       "    <tr>\n",
       "      <th>23</th>\n",
       "      <td>1096.0</td>\n",
       "      <td>43200.0</td>\n",
       "    </tr>\n",
       "    <tr>\n",
       "      <th>36</th>\n",
       "      <td>1323.0</td>\n",
       "      <td>64900.0</td>\n",
       "    </tr>\n",
       "    <tr>\n",
       "      <th>42</th>\n",
       "      <td>1130.0</td>\n",
       "      <td>46000.0</td>\n",
       "    </tr>\n",
       "    <tr>\n",
       "      <th>90</th>\n",
       "      <td>930.0</td>\n",
       "      <td>47800.0</td>\n",
       "    </tr>\n",
       "    <tr>\n",
       "      <th>97</th>\n",
       "      <td>930.0</td>\n",
       "      <td>50200.0</td>\n",
       "    </tr>\n",
       "    <tr>\n",
       "      <th>121</th>\n",
       "      <td>1127.0</td>\n",
       "      <td>53000.0</td>\n",
       "    </tr>\n",
       "    <tr>\n",
       "      <th>169</th>\n",
       "      <td>950.0</td>\n",
       "      <td>40600.0</td>\n",
       "    </tr>\n",
       "  </tbody>\n",
       "</table>\n",
       "</div>"
      ],
      "text/plain": [
       "     SAT_AVG  EARNINGS\n",
       "0      978.0   38000.0\n",
       "6      976.0   36800.0\n",
       "9     1075.0   45600.0\n",
       "23    1096.0   43200.0\n",
       "36    1323.0   64900.0\n",
       "42    1130.0   46000.0\n",
       "90     930.0   47800.0\n",
       "97     930.0   50200.0\n",
       "121   1127.0   53000.0\n",
       "169    950.0   40600.0"
      ]
     },
     "execution_count": 90,
     "metadata": {},
     "output_type": "execute_result"
    }
   ],
   "source": [
    "df2=df[['SAT_AVG', 'EARNINGS']].dropna()\n",
    "df2[:10]\n"
   ]
  },
  {
   "cell_type": "markdown",
   "id": "4a8e5968-076a-43d1-8355-80856fa85a35",
   "metadata": {},
   "source": [
    "2. Find the p-value and make sure its value is small. Find the r coeeficient. \n"
   ]
  },
  {
   "cell_type": "code",
   "execution_count": 92,
   "id": "7ff94436-8848-469b-a392-2d01dd3e9ea3",
   "metadata": {},
   "outputs": [
    {
     "data": {
      "text/plain": [
       "(0.696211404774295, 3.276210698848164e-185)"
      ]
     },
     "execution_count": 92,
     "metadata": {},
     "output_type": "execute_result"
    }
   ],
   "source": [
    "from scipy.stats import pearsonr\n",
    "pearsonr(df2['SAT_AVG'], df2['EARNINGS'])"
   ]
  },
  {
   "cell_type": "markdown",
   "id": "f2f0bb3e-abdd-4a99-8c3c-8933b4b59d81",
   "metadata": {},
   "source": [
    "The p value is small, the r coeffcient is 0.696, which is a strong positive correlation. "
   ]
  },
  {
   "cell_type": "markdown",
   "id": "7b23ed3b-2114-44bb-b069-e005a8719b70",
   "metadata": {},
   "source": [
    "3. Create a regression model, this will be used in the next step for visualization"
   ]
  },
  {
   "cell_type": "code",
   "execution_count": null,
   "id": "e1fd7178-65f7-4e89-a191-e5a75c904cbc",
   "metadata": {},
   "outputs": [],
   "source": [
    "from scipy.stats import linregress\n",
    "X=df2[['SAT_AVG']]\n",
    "y=df2[['EARNINGS']]\n",
    "regressor = LinearRegression()\n",
    "regressor.fit(X, y)\n",
    "y_pred = regressor.predict(X)\n"
   ]
  },
  {
   "cell_type": "markdown",
   "id": "882f6e08-5969-4f04-844c-e4cb04342cd2",
   "metadata": {},
   "source": [
    "4. Create a scatterplot and the line of best fit to visualize the correlation between SAT scores and earnings.  "
   ]
  },
  {
   "cell_type": "code",
   "execution_count": 100,
   "id": "1b761174-4120-438b-9474-0dd6aa15e6bc",
   "metadata": {},
   "outputs": [
    {
     "data": {
      "text/plain": [
       "<function matplotlib.pyplot.show(close=None, block=None)>"
      ]
     },
     "execution_count": 100,
     "metadata": {},
     "output_type": "execute_result"
    },
    {
     "data": {
      "image/png": "[encoded data removed]",
      "text/plain": [
       "<Figure size 432x288 with 1 Axes>"
      ]
     },
     "metadata": {
      "needs_background": "light"
     },
     "output_type": "display_data"
    }
   ],
   "source": [
    "plt.scatter(X,y,s=5)\n",
    "plt.plot(X,y_pred, color='red')\n",
    "plt.title('SAT Scores vs Earnings')\n",
    "plt.xlabel('SAT Scores')\n",
    "plt.ylabel('Earnings')\n",
    "plt.show"
   ]
  },
  {
   "cell_type": "markdown",
   "id": "35c51fe7-54fe-4dda-8518-b9efa3e18712",
   "metadata": {},
   "source": [
    "This is a monotonic relationship, where Earnings increase as SAT scores increase. This looks like a linear relationship,\n",
    "but there is still a hint to an exponential relationship, since the Earnings begin a steep ascend after SAT scores \n",
    "get to 1400. More testing is needed to validate the relationship."
   ]
  },
  {
   "cell_type": "markdown",
   "id": "8b176a7d-f161-49af-853d-dd165ab373ad",
   "metadata": {},
   "source": [
    "# Limitations\n",
    "\n",
    "This dataset is most suitable for comparing universities between each other. It's not sufficient enough to compare student performance and correlate it to future earnings. The reason for this is that each college in this dataset only provides the average values for every variable so we can's compare the student performance within the colleges. \n",
    "\n",
    "The earnings are also averaged and not separated into majors within the colleges, which may sway the results, since technical colleges will earn more than art colleges and there is no way to separate them apart.   \n",
    "\n",
    "This dataset provides us only with graduate earnings straight out of the college. If we were provided with more earning checkpoints such as at 5, 10 and 20 years after graduation, we would be more confident in our findings. \n",
    "\n"
   ]
  },
  {
   "cell_type": "markdown",
   "id": "8f38d870-c61d-42f6-b1b6-8fdecb62989a",
   "metadata": {},
   "source": [
    "# Conclusion\n",
    "\n",
    "We can conclude that colleges with lower admission rate and higher average SAT scores report higher graduate earnings straight out of the college. On top of that, college type also plays a role in future earnings, where private nonprofit colleges report the highest student earnings after graduation, private for profit collegest report the least earnings and public colleges are in between. "
   ]
  }
 ],
 "metadata": {
  "kernelspec": {
   "display_name": "Python 3",
   "language": "python",
   "name": "python3"
  },
  "language_info": {
   "codemirror_mode": {
    "name": "ipython",
    "version": 3
   },
   "file_extension": ".py",
   "mimetype": "text/x-python",
   "name": "python",
   "nbconvert_exporter": "python",
   "pygments_lexer": "ipython3",
   "version": "3.8.8"
  }
 },
 "nbformat": 4,
 "nbformat_minor": 5
}
